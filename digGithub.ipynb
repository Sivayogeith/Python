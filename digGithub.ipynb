{
  "cells": [
    {
      "cell_type": "code",
      "execution_count": null,
      "metadata": {
        "id": "xg5S3GsiFm3o"
      },
      "outputs": [
        {
          "ename": "",
          "evalue": "",
          "output_type": "error",
          "traceback": [
            "\u001b[1;31mFailed to start the Kernel. \n",
            "\u001b[1;31mnote: This is an issue with the package mentioned above, not pip.\n",
            "\u001b[1;31mhint: See above for details. \n",
            "View Jupyter <a href='command:jupyter.viewOutput'>log</a> for further details."
          ]
        }
      ],
      "source": [
        "def openImage(url):\n",
        "  import requests\n",
        "  import matplotlib.pyplot as plt\n",
        "  from PIL import Image\n",
        "  from io import BytesIO\n",
        "\n",
        "  image = requests.get(url)\n",
        "  im = Image.open(BytesIO(image.content))\n",
        "\n",
        "  plt.axis(\"off\")\n",
        "  plt.imshow(im)\n",
        "  plt.show()"
      ]
    },
    {
      "cell_type": "code",
      "execution_count": null,
      "metadata": {
        "id": "R-pXiI1OIHMH"
      },
      "outputs": [],
      "source": [
        "def getMoreData(username): \n",
        "  url = f\"https://api.github.com/users/{username}\"\n",
        "  response = requests.get(url)\n",
        "  res = json.loads(response.content.decode(\"utf8\"))\n",
        "  return res"
      ]
    },
    {
      "cell_type": "code",
      "execution_count": null,
      "metadata": {
        "id": "FYy8A9-BB9cL"
      },
      "outputs": [],
      "source": [
        "import json\n",
        "import requests\n",
        "\n",
        "user_input = input('Enter some random id: ')\n",
        "if user_input == \"y\":\n",
        "  id = 65064458 - 1\n",
        "elif user_input == \"s\":\n",
        "  id = 8729837 - 1\n",
        "else: id = int(user_input) - 1\n",
        "url = f\"https://api.github.com/users?since={id}\"\n",
        "res = json.loads(requests.get(url).content.decode(\"utf8\"))\n",
        "user_data = res[0]\n",
        "username = user_data['login']\n",
        "\n",
        "moreData = getMoreData(username)\n",
        "print(f\"This is your user: @{username}\")\n",
        "print(f\"Full Name: {moreData['name']}\")\n",
        "print(f\"Company: {moreData['company']}\")\n",
        "print(f\"Bio: {moreData['bio']}\")\n",
        "\n",
        "if input(\"want more data? \").lower() in [\"yes\", \"yeah\", \"dude, ofc\", \"bhaiya!\"]:\n",
        "  for keys, values in moreData.items():\n",
        "    if keys not in ['login', 'name', 'company', 'bio']:\n",
        "      print(f\"{keys.capitalize()}: {values}\")\n",
        "else: \n",
        "  print(\"Gotcha!\")\n",
        "\n",
        "if input(\"want their image? \").lower() in [\"yes\", \"yeah\", \"dude, ofc\", \"bhaiya!\"]:\n",
        "  avatar_url = user_data['avatar_url']\n",
        "  print(\"Their Avatar Image: \")\n",
        "  print()\n",
        "  openImage(avatar_url)\n",
        "else : \n",
        "  print(\"Ok, dude bye!\")"
      ]
    }
  ],
  "metadata": {
    "colab": {
      "provenance": []
    },
    "kernelspec": {
      "display_name": "Python 3.7.0 32-bit",
      "language": "python",
      "name": "python3"
    },
    "language_info": {
      "name": "python",
      "version": "3.7.0"
    },
    "vscode": {
      "interpreter": {
        "hash": "03a6a02389a0a59374592e8f1cf30d24fda0d9ebe36f20503aa978c5904abee7"
      }
    }
  },
  "nbformat": 4,
  "nbformat_minor": 0
}
